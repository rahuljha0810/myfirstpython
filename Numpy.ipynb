{
  "cells": [
    {
      "cell_type": "markdown",
      "metadata": {
        "id": "view-in-github",
        "colab_type": "text"
      },
      "source": [
        "<a href=\"https://colab.research.google.com/github/rahuljha0810/myfirstpython/blob/master/Numpy.ipynb\" target=\"_parent\"><img src=\"https://colab.research.google.com/assets/colab-badge.svg\" alt=\"Open In Colab\"/></a>"
      ]
    },
    {
      "cell_type": "code",
      "execution_count": null,
      "metadata": {
        "id": "fWmay1Zvb_Bg"
      },
      "outputs": [],
      "source": [
        "import numpy as np \n",
        "\n",
        "Arr= np.array([[4,5,6,3],[5,6,9,3]])\n",
        "print(Arr)\n",
        "print(Arr.sum(axis=1))\n",
        "\n",
        "#we can add two array directly\n",
        "\n",
        "print(Arr.T) #to transpose the array\n",
        "for i in Arr.flat :\n",
        "    print(i)\n",
        "    \n",
        "print(Arr)\n",
        "print(\"Maximum at : \", Arr.argmax())\n",
        "\n",
        "\n",
        "\n",
        "Arr1= np.ones((2,4))\n",
        "\n",
        "#arr= np.identity(5,3)\n",
        "\n",
        "\n",
        "Arr2= np.arange(14).reshape((2,7))\n",
        "\n",
        "Arr2= Arr2.ravel()\n",
        "\n",
        "Arr3= np.linspace(1,50, 5)\n",
        "\n"
      ]
    },
    {
      "cell_type": "code",
      "execution_count": null,
      "metadata": {
        "id": "1JZANbqOcWml"
      },
      "outputs": [],
      "source": [
        "# random number creation from numpy\n",
        "\n",
        "A1=np.random.rand(2,3) # number between 0-1\n",
        "\n",
        "#random.randint(low, high=None, size=None, dtype=int)\n",
        "A2= np.random.randint(1,50, 5)\n",
        "print(A2)\n",
        "A3= np.random.random((5,5))\n",
        "\n",
        "A=np.random.randint(5,100,(5,5))\n",
        "print(A)\n",
        "print(A[1:4, 1:4])\n",
        "\n",
        "A=np.random.randn(5)\n",
        "print(A)\n",
        "\n",
        "A=np.full((3,4),45)\n",
        "print(A)\n",
        "a = np.eye(5)\n",
        "print(a)"
      ]
    },
    {
      "cell_type": "code",
      "execution_count": null,
      "metadata": {
        "colab": {
          "base_uri": "https://localhost:8080/"
        },
        "id": "8Wg_hvp5X3BJ",
        "outputId": "7db8ebec-09e4-4216-8cc6-a3fcaf240158"
      },
      "outputs": [
        {
          "name": "stdout",
          "output_type": "stream",
          "text": [
            "Enter Expense of Month 1: 42\n",
            "Enter Expense of Month 2: 3\n",
            "Enter Expense of Month 3: 65\n",
            "Enter Expense of Month 4: 12\n",
            "Enter Expense of Month 5: 45\n",
            "Enter Expense of Month 6: 45\n",
            "the expenditure list is :  [42, 3, 65, 12, 45, 45]\n",
            "the list of final :  [35.333333333333336, 65, 3, 62, 29.666666666666664, 32.333333333333336]\n",
            "final array :  [[42.          3.         65.         12.         45.         45.        ]\n",
            " [35.33333333 65.          3.         62.         29.66666667 32.33333333]]\n"
          ]
        }
      ],
      "source": [
        "# Get input from user in terms of expenses of last 5 months\n",
        "# Calculate mean, max, min, max-min, max-mean, mean-min\n",
        "# Generate a 2 dimentional array having information as follow\n",
        "# info=[Em1, Em2, Em3,Em4,Em5\n",
        "#      mean, max, min, max-min, max-mean, mean-min]\n",
        "\n",
        "\n",
        "TmpEx=[]\n",
        "for i in range(6):\n",
        "  TmpEx.append(int(input(\"Enter Expense of Month \"+str(i+1)+': ')))\n",
        "print(\"the expenditure list is : \",TmpEx)\n",
        "\n",
        "Inf=[np.mean(TmpEx),np.max(TmpEx),np.min(TmpEx),\n",
        "     np.max(TmpEx)-np.min(TmpEx),np.max(TmpEx)-np.mean(TmpEx),\n",
        "     np.mean(TmpEx)-np.min(TmpEx)]\n",
        "print(\"the list of final : \",Inf)\n",
        "\n",
        "MyArray=np.array([TmpEx,Inf])\n",
        "print(\"final array : \", MyArray)"
      ]
    },
    {
      "cell_type": "code",
      "execution_count": null,
      "metadata": {
        "colab": {
          "background_save": true,
          "base_uri": "https://localhost:8080/"
        },
        "id": "9g491555bePH",
        "outputId": "7b1daa5b-fe13-4ebe-9f94-cf9653c07149"
      },
      "outputs": [
        {
          "name": "stdout",
          "output_type": "stream",
          "text": [
            "[[42  0  0  0  0  0]\n",
            " [ 0  3  0  0  0  0]\n",
            " [ 0  0 65  0  0  0]\n",
            " [ 0  0  0 12  0  0]\n",
            " [ 0  0  0  0 45  0]\n",
            " [ 0  0  0  0  0 45]]\n"
          ]
        }
      ],
      "source": [
        "# print the expnses in diagonal form by using \n",
        "# slicing from above array info\n",
        "# using diagonal array\n",
        "# Hint:\n",
        "# slice value of expense from info array\n",
        "# and print using diagonal function of numpy\n",
        "\n",
        "# syntax: A[rows,colmns]\n",
        "print(np.diag(TmpEx))"
      ]
    },
    {
      "cell_type": "code",
      "source": [
        "A=np.random.randint(5,100,(5,5))\n",
        "print(A)\n",
        "print(A.max())\n",
        "print(A.max(axis=1))\n",
        "print(A.max(axis=0))"
      ],
      "metadata": {
        "colab": {
          "base_uri": "https://localhost:8080/"
        },
        "id": "_GqF0-61i_AY",
        "outputId": "f99f4d84-d334-4eba-a52e-54d2506d834d"
      },
      "execution_count": null,
      "outputs": [
        {
          "output_type": "stream",
          "name": "stdout",
          "text": [
            "[[22 36 73 35 49]\n",
            " [95 62 73 39 26]\n",
            " [61 58 75 46 44]\n",
            " [28 51 92 39 29]\n",
            " [65 51 63 76 33]]\n",
            "95\n",
            "[73 95 75 92 76]\n",
            "[95 62 92 76 49]\n"
          ]
        }
      ]
    },
    {
      "cell_type": "code",
      "source": [
        "print(A)\n",
        "print(A.sum())\n",
        "print(A.sum(axis=1))\n",
        "print(A.sum(axis=0))"
      ],
      "metadata": {
        "colab": {
          "base_uri": "https://localhost:8080/"
        },
        "id": "7xW4l0tijCv9",
        "outputId": "cdd21caa-154c-459b-890b-dfee12e83b4b"
      },
      "execution_count": null,
      "outputs": [
        {
          "output_type": "stream",
          "name": "stdout",
          "text": [
            "[[22 36 73 35 49]\n",
            " [95 62 73 39 26]\n",
            " [61 58 75 46 44]\n",
            " [28 51 92 39 29]\n",
            " [65 51 63 76 33]]\n",
            "1321\n",
            "[215 295 284 239 288]\n",
            "[271 258 376 235 181]\n"
          ]
        }
      ]
    },
    {
      "cell_type": "code",
      "source": [
        "# Mathematical Operations in Array\n",
        "A=np.random.randint(1,5,(2,2))\n",
        "B=np.random.randint(1,5,(2,2))\n",
        "print(A)\n",
        "print(B)\n",
        "#print(A+B)\n",
        "#print(A-B)\n",
        "#print(A*B)\n",
        "print(A.dot(B))"
      ],
      "metadata": {
        "id": "rfCXQVo6jbpb"
      },
      "execution_count": null,
      "outputs": []
    },
    {
      "cell_type": "code",
      "source": [
        "# Wap To generate 2 arrays of length 5x5\n",
        "# The elements of first array must be float and in range of\n",
        "# 5 to 50\n",
        "# The second array have negative and positive elements\n",
        "# As a output print the summation of both arrays\n",
        "# print summation array in row wise sorted form\n",
        "\n",
        "# Solution:\n",
        "A1=np.random.randint(5,50,(5,5))*0.4\n",
        "A2=np.random.randn(5,5)\n",
        "print(A1)\n",
        "print(A2)\n",
        "A3=A1+A2\n",
        "print(A3)\n",
        "print(np.sort(A3,axis=1))\n",
        "print(A3)"
      ],
      "metadata": {
        "id": "kvc2GZy8jv_I"
      },
      "execution_count": null,
      "outputs": []
    },
    {
      "cell_type": "code",
      "source": [
        "A1=np.random.randint(1,5,(3,3))\n",
        "A2=np.random.randint(1,5,(3,3))\n",
        "print(A1)\n",
        "print(A2)\n",
        "# Joining\n",
        "A3=np.array(list(A1)+list(A2))\n",
        "print(A3)"
      ],
      "metadata": {
        "id": "Rd0gmRrYkDez"
      },
      "execution_count": null,
      "outputs": []
    },
    {
      "cell_type": "code",
      "source": [
        "A=np.array([2,4,5,7,8,5])\n",
        "\n",
        "A=np.delete(A,3)\n",
        "\n",
        "A=np.append(A,45)\n",
        "\n",
        "A=np.insert(A,2,45)"
      ],
      "metadata": {
        "colab": {
          "base_uri": "https://localhost:8080/"
        },
        "id": "_QkX97-ZkdMP",
        "outputId": "5481e74e-d786-4dc6-a87b-ef7052f0c551"
      },
      "execution_count": null,
      "outputs": [
        {
          "output_type": "stream",
          "name": "stdout",
          "text": [
            "[2 4 5 8 5]\n"
          ]
        }
      ]
    },
    {
      "cell_type": "code",
      "source": [
        "# for joining Arrays\n",
        "# stack\n",
        "# vstack\n",
        "# hstack\n",
        "# dstack\n",
        "# Search (search, sortsearch)\n",
        "# Splitting (array_split)"
      ],
      "metadata": {
        "id": "FG9QmaG2k17a"
      },
      "execution_count": null,
      "outputs": []
    }
  ],
  "metadata": {
    "colab": {
      "provenance": [],
      "authorship_tag": "ABX9TyO+1H0m2e0o4xFY/NhmVWzn",
      "include_colab_link": true
    },
    "kernelspec": {
      "display_name": "Python 3",
      "name": "python3"
    },
    "language_info": {
      "name": "python"
    }
  },
  "nbformat": 4,
  "nbformat_minor": 0
}